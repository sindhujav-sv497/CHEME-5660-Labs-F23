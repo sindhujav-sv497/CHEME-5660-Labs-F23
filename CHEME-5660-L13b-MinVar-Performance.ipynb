{
 "cells": [
  {
   "cell_type": "markdown",
   "id": "f58fd244-572e-4cda-b59a-ae77b659f097",
   "metadata": {},
   "source": [
    "# Lab 13b: Evaluating the Performance of Minimum Variance Portfolios\n",
    "Fill me in"
   ]
  },
  {
   "cell_type": "markdown",
   "id": "918f0dd9-8ace-44e2-8b9e-1cf9ea6ee4ee",
   "metadata": {},
   "source": [
    "## Setup\n",
    "We set up the computational environment by including the `Include.jl` file. The `Include.jl` file loads external packages, various functions that we will use in the exercise, and custom types to model the components of our lab problem."
   ]
  },
  {
   "cell_type": "code",
   "execution_count": 1,
   "id": "7a297f94-1734-4605-890d-d18a8bfeff4d",
   "metadata": {
    "tags": []
   },
   "outputs": [
    {
     "name": "stderr",
     "output_type": "stream",
     "text": [
      "\u001b[32m\u001b[1m    Updating\u001b[22m\u001b[39m git-repo `https://github.com/varnerlab/VLQuantitativeFinancePackage.jl.git`\n",
      "\u001b[32m\u001b[1m    Updating\u001b[22m\u001b[39m registry at `~/.julia/registries/General.toml`\n",
      "\u001b[32m\u001b[1m   Resolving\u001b[22m\u001b[39m package versions...\n",
      "\u001b[32m\u001b[1m  No Changes\u001b[22m\u001b[39m to `~/Desktop/julia_work/CHEME-5660-Labs-F23/Project.toml`\n",
      "\u001b[32m\u001b[1m  No Changes\u001b[22m\u001b[39m to `~/Desktop/julia_work/CHEME-5660-Labs-F23/Manifest.toml`\n",
      "\u001b[32m\u001b[1m  Activating\u001b[22m\u001b[39m project at `~/Desktop/julia_work/CHEME-5660-Labs-F23`\n",
      "\u001b[32m\u001b[1m  No Changes\u001b[22m\u001b[39m to `~/Desktop/julia_work/CHEME-5660-Labs-F23/Project.toml`\n",
      "\u001b[32m\u001b[1m  No Changes\u001b[22m\u001b[39m to `~/Desktop/julia_work/CHEME-5660-Labs-F23/Manifest.toml`\n",
      "\u001b[32m\u001b[1m    Updating\u001b[22m\u001b[39m registry at `~/.julia/registries/General.toml`\n",
      "\u001b[32m\u001b[1m    Updating\u001b[22m\u001b[39m git-repo `https://github.com/varnerlab/VLQuantitativeFinancePackage.jl.git`\n",
      "\u001b[32m\u001b[1m   Installed\u001b[22m\u001b[39m Parsers ─ v2.8.0\n",
      "\u001b[32m\u001b[1m   Installed\u001b[22m\u001b[39m PDMats ── v0.11.29\n",
      "\u001b[32m\u001b[1m    Updating\u001b[22m\u001b[39m `~/Desktop/julia_work/CHEME-5660-Labs-F23/Project.toml`\n",
      "  \u001b[90m[b8f27783] \u001b[39m\u001b[93m↑ MathOptInterface v1.21.0 ⇒ v1.22.0\u001b[39m\n",
      "\u001b[32m\u001b[1m    Updating\u001b[22m\u001b[39m `~/Desktop/julia_work/CHEME-5660-Labs-F23/Manifest.toml`\n",
      "  \u001b[90m[b8f27783] \u001b[39m\u001b[93m↑ MathOptInterface v1.21.0 ⇒ v1.22.0\u001b[39m\n",
      "  \u001b[90m[739be429] \u001b[39m\u001b[93m↑ MbedTLS v1.1.7 ⇒ v1.1.8\u001b[39m\n",
      "  \u001b[90m[90014a1f] \u001b[39m\u001b[93m↑ PDMats v0.11.28 ⇒ v0.11.29\u001b[39m\n",
      "  \u001b[90m[69de0a69] \u001b[39m\u001b[93m↑ Parsers v2.7.2 ⇒ v2.8.0\u001b[39m\n",
      "  \u001b[90m[ffd25f8a] \u001b[39m\u001b[93m↑ XZ_jll v5.4.4+0 ⇒ v5.4.5+0\u001b[39m\n",
      "\u001b[32m\u001b[1mPrecompiling\u001b[22m\u001b[39m project...\n",
      "\u001b[32m  ✓ \u001b[39m\u001b[90mPDMats\u001b[39m\n",
      "\u001b[32m  ✓ \u001b[39mDistributions\n",
      "\u001b[32m  ✓ \u001b[39m\u001b[90mDistributions → DistributionsTestExt\u001b[39m\n",
      "\u001b[32m  ✓ \u001b[39m\u001b[90mDistributions → DistributionsChainRulesCoreExt\u001b[39m\n",
      "\u001b[32m  ✓ \u001b[39m\u001b[90mLsqFit\u001b[39m\n",
      "\u001b[32m  ✓ \u001b[39m\u001b[90mKernelDensity\u001b[39m\n",
      "\u001b[33m  ✓ \u001b[39m\u001b[90mParsers\u001b[39m\n",
      "\u001b[32m  ✓ \u001b[39m\u001b[90mInlineStrings\u001b[39m\n",
      "\u001b[33m  ✓ \u001b[39m\u001b[90mJSON\u001b[39m\n",
      "\u001b[32m  ✓ \u001b[39m\u001b[90mWeakRefStrings\u001b[39m\n",
      "\u001b[33m  ✓ \u001b[39m\u001b[90mConda\u001b[39m\n",
      "\u001b[32m  ✓ \u001b[39m\u001b[90mBenchmarkTools\u001b[39m\n",
      "\u001b[33m  ✓ \u001b[39mIJulia\n",
      "\u001b[32m  ✓ \u001b[39m\u001b[90mGR\u001b[39m\n",
      "\u001b[32m  ✓ \u001b[39mCSV\n",
      "\u001b[32m  ✓ \u001b[39mDataFrames\n",
      "\u001b[32m  ✓ \u001b[39m\u001b[90mLatexify → DataFramesExt\u001b[39m\n",
      "\u001b[32m  ✓ \u001b[39mMathOptInterface\n",
      "\u001b[32m  ✓ \u001b[39m\u001b[90mMadNLP\u001b[39m\n",
      "\u001b[32m  ✓ \u001b[39mPlots\n",
      "\u001b[32m  ✓ \u001b[39m\u001b[90mPlots → FileIOExt\u001b[39m\n",
      "\u001b[32m  ✓ \u001b[39m\u001b[90mPlots → IJuliaExt\u001b[39m\n",
      "\u001b[32m  ✓ \u001b[39m\u001b[90mPlots → UnitfulExt\u001b[39m\n",
      "\u001b[32m  ✓ \u001b[39m\u001b[90mJuMP\u001b[39m\n",
      "\u001b[32m  ✓ \u001b[39mStatsPlots\n",
      "\u001b[32m  ✓ \u001b[39mVLQuantitativeFinancePackage\n",
      "  26 dependencies successfully precompiled in 87 seconds. 235 already precompiled.\n",
      "  \u001b[33m4\u001b[39m dependencies precompiled but different versions are currently loaded. Restart julia to access the new versions\n",
      "\u001b[36m\u001b[1m[ \u001b[22m\u001b[39m\u001b[36m\u001b[1mInfo: \u001b[22m\u001b[39mPrecompiling VLQuantitativeFinancePackage [4119e0bf-20d0-4785-913e-5ebdb0caa218]\n",
      "\u001b[36m\u001b[1m[ \u001b[22m\u001b[39m\u001b[36m\u001b[1mInfo: \u001b[22m\u001b[39mPrecompiling IJuliaExt [2f4121a4-3b3a-5ce6-9c5e-1f2673ce168a]\n",
      "\u001b[36m\u001b[1m[ \u001b[22m\u001b[39m\u001b[36m\u001b[1mInfo: \u001b[22m\u001b[39mPrecompiling StatsPlots [f3b207a7-027a-5e70-b257-86293d7955fd]\n"
     ]
    }
   ],
   "source": [
    "include(\"Include.jl\");"
   ]
  },
  {
   "cell_type": "markdown",
   "id": "c045556e-b6f0-4891-b33b-cb58e63f8476",
   "metadata": {
    "jp-MarkdownHeadingCollapsed": true,
    "tags": []
   },
   "source": [
    "## Prerequisites: Load and clean the historical dataset\n",
    "We gathered a daily open-high-low-close `dataset` for each firm in the [S&P500](https://en.wikipedia.org/wiki/S%26P_500) since `01-03-2018` until `10-31-2023`, along with data for a few exchange traded funds and volatility products during that time. In this block of code, we:\n",
    "* Load and clean the historical data, we stored the clean data in the `dataset` variable.\n",
    "* We calculate the expected excess return $\\mathbb{E}(R_{i})$ for each `ticker` in `dataset`, however, we are only going to use the expected excess return for `SPY`, our benchmark portfolio\n",
    "* We load the `single index models` estimated in `Lab 12c`, we store these models in the `sims` variable.\n",
    "* We compute the expected excess return, and the covariance for each `ticker` in `dataset` using a `single index model`. These values are stored in the `μ_sim` and `Σ_sim` variables."
   ]
  },
  {
   "cell_type": "code",
   "execution_count": 3,
   "id": "56a6f8b4-fedd-479d-af40-015498b3332c",
   "metadata": {
    "tags": []
   },
   "outputs": [],
   "source": [
    "original_dataset = MyPortfolioDataSet() |> x-> x[\"dataset\"];"
   ]
  },
  {
   "cell_type": "markdown",
   "id": "e3a9a912-bca0-4975-91f1-aa9bd73f6f34",
   "metadata": {},
   "source": [
    "### Clean the data\n",
    "Not all of the tickers in our dataset have the maximum number of trading days for various reasons, e.g., acquistion or de-listing events. Let's collect only those tickers with the maximum number of tradition days.\n",
    "\n",
    "* First, let's compute the number of records for a company that we know has a maximim value, e.g., `AAPL` and save that value in the `maximum_number_trading_days` variable:"
   ]
  },
  {
   "cell_type": "code",
   "execution_count": 4,
   "id": "9c525b5a-297d-46c6-9459-667b720d7a18",
   "metadata": {
    "tags": []
   },
   "outputs": [],
   "source": [
    "maximum_number_trading_days = original_dataset[\"AAPL\"] |> nrow;"
   ]
  },
  {
   "cell_type": "code",
   "execution_count": 6,
   "id": "59e53fb3-f20a-4969-a28b-312c7d26ccbf",
   "metadata": {
    "tags": []
   },
   "outputs": [],
   "source": [
    "dataset = Dict{String,DataFrame}();\n",
    "for (ticker,data) ∈ original_dataset\n",
    "    if (nrow(data) == maximum_number_trading_days)\n",
    "        dataset[ticker] = data;\n",
    "    end\n",
    "end\n",
    "dataset;"
   ]
  },
  {
   "cell_type": "markdown",
   "id": "fa1643c5-5105-4eb2-8b78-b7d5f4d6810f",
   "metadata": {},
   "source": [
    "Let's get a list of firms that we have in cleaned up `dataset`, and save it ib the `all_tickers` array"
   ]
  },
  {
   "cell_type": "code",
   "execution_count": 7,
   "id": "feef67bb-ea47-40d3-a714-54481bfb7911",
   "metadata": {
    "tags": []
   },
   "outputs": [],
   "source": [
    "all_tickers = keys(dataset) |> collect |> sort;"
   ]
  },
  {
   "cell_type": "markdown",
   "id": "f1793967-f09e-4e66-bb2b-3b21451618a8",
   "metadata": {},
   "source": [
    "Finally, let's set some constant values, e.g., the `risk_free_rate`"
   ]
  },
  {
   "cell_type": "code",
   "execution_count": 11,
   "id": "2fc9a1dc-1459-42a2-b0b9-a2461c167c2d",
   "metadata": {
    "tags": []
   },
   "outputs": [],
   "source": [
    "risk_free_rate = 0.05;"
   ]
  },
  {
   "cell_type": "markdown",
   "id": "fd30d1fe-e1c9-4e09-994b-4d18e6ccad51",
   "metadata": {},
   "source": [
    "### Compute the covariance and expected yield for all firms in the dataset\n",
    "The expected return $\\mathbb{E}(r_{i})$ and covariance matrix $\\Sigma$ will be used in our calculations, so we'll provide values for both of these items for the entire data set (all `N = 459` tickers), and then you can pick out which tickers you are interested in. \n",
    "\n",
    "* First, we compute the expected (annualized) log return by passing the `dataset` and the entire list of firms we have in the dataset (held in the $N\\times{1}$ `all_array` array) to the `log_return_matrix(...)` method. The result is stored in the `all_firms_return_matrix` variable, a $T-1\\times{N}$ array of log return values. Each row of `all_firms_return_matrix` corresponds to a time-value, while each column corresponds to a firm:"
   ]
  },
  {
   "cell_type": "code",
   "execution_count": 13,
   "id": "8409e93e-0594-40c3-a5cd-103b0b92d5c7",
   "metadata": {
    "tags": []
   },
   "outputs": [],
   "source": [
    "all_firms_excess_return_matrix = log_return_matrix(dataset, all_tickers, \n",
    "    Δt = (1.0/252.0), risk_free_rate = risk_free_rate);"
   ]
  },
  {
   "cell_type": "markdown",
   "id": "1a1a5ab7-935f-4caa-88ff-4b781433cb41",
   "metadata": {},
   "source": [
    "Next, we estimate the expected excess return for each firm from the `all_firms_excess_return_matrix` using the `mean(...)` function, which is exported by the [Statistics.jl package](https://docs.julialang.org/en/v1/stdlib/Statistics/). We set the $N\\times{1}$ vector of expected values, i.e., $\\mathbb{E}(R_{1}),\\dotsc,\\mathbb{E}(R_{N})$ in the variable $\\mu$:"
   ]
  },
  {
   "cell_type": "code",
   "execution_count": 14,
   "id": "0388e63f-e53f-4cc1-b4a5-67a5f8d409f7",
   "metadata": {
    "tags": []
   },
   "outputs": [],
   "source": [
    "μ = mean(all_firms_excess_return_matrix, dims=1) |> vec;"
   ]
  },
  {
   "cell_type": "markdown",
   "id": "4aa9300f-8c98-4180-8707-5a45d65e36d3",
   "metadata": {},
   "source": [
    "### Build single index model returns and covariance"
   ]
  },
  {
   "cell_type": "code",
   "execution_count": 9,
   "id": "7c3aa5c1-aa6f-4553-8536-98b4c801d2ec",
   "metadata": {
    "tags": []
   },
   "outputs": [],
   "source": [
    "sims = load(joinpath(_PATH_TO_DATA, \"SIM-SP500-01-03-18-to-10-31-23.jld2\")) |> x->x[\"sim\"];"
   ]
  },
  {
   "cell_type": "markdown",
   "id": "52f6afe5-d4fa-4ebe-809f-23199585ae40",
   "metadata": {},
   "source": [
    "Store the index of the market portfolio in the `index_SPY` variable, and then the expected return of the market portfolio $\\mathbb{E}(R_{m})$ in the `R_SPY` vector:"
   ]
  },
  {
   "cell_type": "code",
   "execution_count": 15,
   "id": "e1f9e392-e885-432a-aaad-3cfe8dca24c5",
   "metadata": {
    "tags": []
   },
   "outputs": [],
   "source": [
    "index_SPY = findfirst(x->x==\"SPY\", all_tickers);\n",
    "R_SPY = μ[index_SPY];"
   ]
  },
  {
   "cell_type": "markdown",
   "id": "3a51a0d4-2221-47e0-bd0d-b927cf10e0c2",
   "metadata": {},
   "source": [
    "Now, compute the expected return for each ticker in `dataset` using the `single index models` computed in `Lab 12b` using a `for` loop. For iteration of the loop:\n",
    "* Get the `ticker` symbol from the `all_tickers` array, and pull out the corresponding `single index model` from the `sims` dictionary\n",
    "* Next, pull out the $(\\alpha, \\beta)$ parameters from the `sim` model instance and compute the expected return $\\mathbb{E}(R_{i})$. Store the expected return in the `μ_sim` array"
   ]
  },
  {
   "cell_type": "code",
   "execution_count": 16,
   "id": "4a53c8af-601a-4222-9cd0-7f0d72fed1c0",
   "metadata": {
    "tags": []
   },
   "outputs": [],
   "source": [
    "μ_sim = Array{Float64,1}();\n",
    "for i ∈ eachindex(all_tickers)\n",
    "    \n",
    "    myticker = all_tickers[i];\n",
    "    sim = sims[myticker];\n",
    "    \n",
    "    αᵢ = sim.α\n",
    "    βᵢ = sim.β\n",
    "    Rᵢ = αᵢ+βᵢ*R_SPY\n",
    "    \n",
    "    push!(μ_sim,Rᵢ)\n",
    "end"
   ]
  },
  {
   "cell_type": "markdown",
   "id": "0c929898-c248-4c48-8af0-47e928f35cbb",
   "metadata": {},
   "source": [
    "Next let's build the `single index model` version of the covariance array. Substituting the single index model for the excess return of asset $i$ and $j$ into the covariance expression (and simplifying) gives:\n",
    "\n",
    "$$\n",
    "\\begin{equation*}\n",
    "\\text{cov}(R_{i}, R_{j}) = \\begin{cases}\n",
    "\\beta_{i}^{2}\\sigma_{m}^{2}+\\sigma_{\\epsilon_{i}}^{2} & i = j \\\\\n",
    "\\beta_{i}\\beta_{j}\\sigma_{m}^2 & i \\neq j\n",
    "\\end{cases}\n",
    "\\end{equation*}\n",
    "$$\n",
    "\n",
    "where $\\sigma_{m}^2$ denotes the variance of the excess return of the market,  and $\\sigma_{\\epsilon_{i}}^{2}$ denotes the variance of the firm-specific error model."
   ]
  },
  {
   "cell_type": "code",
   "execution_count": 21,
   "id": "ebbc8730-598e-4f2f-9905-f43d0634cae6",
   "metadata": {
    "tags": []
   },
   "outputs": [],
   "source": [
    "σₘ = std(all_firms_excess_return_matrix[:, index_SPY]);"
   ]
  },
  {
   "cell_type": "markdown",
   "id": "7946d8be-c8b8-4bdd-af02-1c1f57059609",
   "metadata": {
    "tags": []
   },
   "source": [
    "We populate the single index covariance array using nested `for` loops:"
   ]
  },
  {
   "cell_type": "code",
   "execution_count": 20,
   "id": "8514f5e7-e68c-4d72-8ba4-6990b0cab49b",
   "metadata": {
    "tags": []
   },
   "outputs": [],
   "source": [
    "Σ_tmp = Array{Float64,2}(undef, length(μ), length(μ));\n",
    "for i ∈ eachindex(all_tickers)\n",
    "    outer_ticker = all_tickers[i];\n",
    "    sim_outer = sims[outer_ticker];\n",
    "    \n",
    "    for j ∈ eachindex(all_tickers)\n",
    "        \n",
    "        inner_ticker = all_tickers[j];\n",
    "        sim_inner = sims[inner_ticker];\n",
    "        \n",
    "        if (i == j)\n",
    "            βᵢ = sim_outer.β\n",
    "            ϵᵢ = sim_outer.ϵ\n",
    "            σ_ϵᵢ = params(ϵᵢ)[2];\n",
    "            Σ_tmp[i,j] = ((βᵢ)^2)*((σₘ)^2)+(σ_ϵᵢ)^2\n",
    "        else\n",
    "            βᵢ = sim_outer.β\n",
    "            βⱼ = sim_inner.β\n",
    "            Σ_tmp[i,j] = βᵢ*βⱼ*(σₘ)^2\n",
    "        end\n",
    "    end\n",
    "end\n",
    "Σ_sim  = Σ_tmp |> x-> x*(1/252);"
   ]
  },
  {
   "cell_type": "markdown",
   "id": "620c8edd-73cf-46da-a7f9-d6c13d1bc368",
   "metadata": {},
   "source": [
    "## Task 1: Select tickers for your `risky-only` portfolio\n",
    "Before we compute the efficient frontier, we must decide which stocks to include in the risky portfolio. One strategy is to pick stocks that have small or even negative covariance. Let's explore this idea. \n",
    "\n",
    "* Specify a collection of `ticker symbols`, e.g., `AAPL`, `MSFT`, etc., that interest you in the `my_list_of_tickers` array. We'll  put the indexes of your tickers in the `my_list_of_firm_ids` array:"
   ]
  },
  {
   "cell_type": "code",
   "execution_count": 22,
   "id": "823731c2-b303-40aa-a1b2-a6f46127f2e6",
   "metadata": {
    "tags": []
   },
   "outputs": [],
   "source": [
    "my_list_of_tickers = [\"AAPL\", \"INTC\", \"MSFT\", \"MU\", \"AMD\", \"GS\", \"BAC\", \"WFC\", \"C\", \"F\"];\n",
    "my_list_of_firm_ids = Array{Int64,1}();\n",
    "for ticker ∈ my_list_of_tickers\n",
    "    firm_index = findfirst(x->x==ticker, all_tickers);    \n",
    "    push!(my_list_of_firm_ids, firm_index)\n",
    "end"
   ]
  },
  {
   "cell_type": "code",
   "execution_count": null,
   "id": "f81c07e1-e24d-42ef-8e87-299724bc896a",
   "metadata": {},
   "outputs": [],
   "source": []
  }
 ],
 "metadata": {
  "kernelspec": {
   "display_name": "Julia 1.9.3",
   "language": "julia",
   "name": "julia-1.9"
  },
  "language_info": {
   "file_extension": ".jl",
   "mimetype": "application/julia",
   "name": "julia",
   "version": "1.9.3"
  }
 },
 "nbformat": 4,
 "nbformat_minor": 5
}
