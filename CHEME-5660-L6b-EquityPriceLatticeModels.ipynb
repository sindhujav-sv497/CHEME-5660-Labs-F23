{
 "cells": [
  {
   "cell_type": "markdown",
   "id": "57dd9915-cbd9-4908-aa0a-1d2cee1b44b0",
   "metadata": {
    "tags": []
   },
   "source": [
    "# Lab 6b: Binomial Lattice Models of Equity Share Price\n",
    "A binomial lattice model assumes that at each discrete time increment, the state of the system, e.g., the share price of equity, the short rate, etc., can either increase by a factor $u$ with probability $p$ or decrease by a factor $d$ with probability $(1-p)$ in the next time interval. Thus, each discrete time interval can be modeled as a [Bernoulli random variable](https://en.wikipedia.org/wiki/Bernoulli_distribution):\n",
    "\n",
    "<div>\n",
    "    <center>\n",
    "        <img src=\"figs/Fig-Binomial-Lattice-Schematic.svg\" width=\"280\"/>\n",
    "    </center>\n",
    "</div>\n",
    "\n",
    "while each level (time slice) of the tree is described by a [Binomial distribution](https://en.wikipedia.org/wiki/Binomial_distribution). Different models have been developed to compute the tuple $(u,d,p)$. However, for now, let's analyze historical data and learn typical values governing the price movement for each firm in our historical dataset.  \n",
    "\n",
    "## Learning Objectives and Tasks\n",
    "The objective of `L6b` is to familiarize students with applying simple probability mass functions to predict future uncertain quantities such as commodity prices, equity share prices, interest rates, etc. In particular, in `L6b`, we will:\n",
    "\n",
    "* __Objective 1__: Estimate values for the tuple $(u,d,p)$ using historical data for the share price of different firms (real-world probability measure).  \n",
    "* __Objective 2__: Compare binomial lattice model simulations of share price versus historical data\n",
    "\n",
    "__Tasks__\n",
    "\n",
    "* __Prerequisite__ (duration 5 min): Break up into teams and familiarize yourself with the lab, its setup, packages, types, functions, etc. Report back to the class any questions that your group has.\n",
    "* __Task 1__ (duration 20 min): Walk through the pricing example from Hull. Report back to class any questions that your team has.\n",
    "    * `TODO` Make sure you understand what the `build(...)` and `populate(...)` methods are doing, and the calling syntax\n",
    "    * `TODO` After you build and populate your `MyBinomialEquityPriceTree` model, inspect the fields and ensure you understand them.\n",
    "* __Task 2__ (duration 5 min): Load the historical data set and familiarize yourself with its contents. Report back to class any questions that your team has.\n",
    "    * `TODO` Make sure you understand how to access data for particular firms and what the fields in the `DataFrames` mean. \n",
    "* __Task 3__ (duration 20 min): Complete part 3A, 3B and 3C, where you will:\n",
    "    * `TODO 3A: 10 min`. Estimate the `u`, `d`, and probability `p` parameters from the historical data\n",
    "    * `TODO 3B: 5 min`. Build binomial lattice model using historical $(u,d,p)$ parameters\n",
    "    * `TODO 3C: 5 min`. Visualize the binomial lattice simulation\n",
    "* __Conceptual questions__: In addition to the technical tasks, please answer the conceptual questions associated with each task or subtask."
   ]
  },
  {
   "cell_type": "markdown",
   "id": "7abe30da-5563-492e-82ea-892c472683eb",
   "metadata": {
    "jp-MarkdownHeadingCollapsed": true,
    "tags": []
   },
   "source": [
    "## Setup\n",
    "We set up the computational environment by including the `Include.jl` file. The `Include.jl` file loads external packages, various functions that we will use in the exercise, and custom types to model the components of our example problem."
   ]
  },
  {
   "cell_type": "markdown",
   "id": "b9e4accf-76dd-4e18-8073-a7e23fb79110",
   "metadata": {},
   "source": [
    "### Packages\n",
    "The `Include.jl` file loads several packages that we use'll for our exercises:\n",
    "* [Dates.jl](https://docs.julialang.org/en/v1/stdlib/Dates/#Dates)  is a package included with the standard library which provides basic functionality for working dates.\n",
    "* [DataFrames.jl](https://dataframes.juliadata.org/stable/) and [CSV.jl](https://github.com/JuliaData/CSV.jl) provide a set of tools for working with tabular data in [Julia](https://julialang.org). Its design and functionality are similar to those of [Pandas (in Python)](https://pandas.pydata.org) and [data.frame, data.table and dplyr (in R)](https://dplyr.tidyverse.org), making it an excellent general-purpose data science tool.\n",
    "* [Distributions.jl](https://github.com/JuliaStats/Distributions.jl) is a [Julia](https://julialang.org) package for probability distributions and associated functions.\n",
    "* [PrettyTables.jl](https://ronisbr.github.io/PrettyTables.jl/stable/man/html_backend/) is a [Julia](https://julialang.org) package that implements functions to construct and display text-based tables\n",
    "* [Plots.jl](https://docs.juliaplots.org/stable/) is a plotting library, and [Colors.jl](https://github.com/JuliaGraphics/Colors.jl) is a color library that we'll use for data visualization in [Julia](https://julialang.org).\n",
    "* [LinearAlgebra.jl](https://github.com/JuliaLang/LinearAlgebra.jl) is a package that provides functionality for working with linear algebra in [Julia](https://julialang.org).\n",
    "* [Statistics.jl](https://docs.julialang.org/en/v1/stdlib/Statistics/#Statistics) is a package included with the standard library module, which contains basic statistics functionality."
   ]
  },
  {
   "cell_type": "markdown",
   "id": "32526e19-a240-4af9-b153-f6156e588ec6",
   "metadata": {
    "tags": []
   },
   "source": [
    "### Types\n",
    "`Include.jl` loads some [problem-specific types](https://docs.julialang.org/en/v1/manual/types/#Composite-Types) that will be helpful for the lattice model simulation of equity share prices:\n",
    "\n",
    "The `MyBinomialEquityPriceTree` encodes the lattice model and has the fields:\n",
    "    \n",
    "* The `connectivity::Union{Nothing, Dict{Int64, Array{Int64,1}}}` field holds the indexes of the children for each parent node of the tree.\n",
    "* The `levels::Union{Nothing, Dict{Int64,Array{Int64,1}}}` field holds indexes of nodes that belong to each level of the tree, i.e., a trading day.\n",
    "* The `u::Float64` field holds the value of the `up` factor\n",
    "* The `d::Float64` field holds the value of the `down` factor\n",
    "* The `p::Float64` field holds the value of the probability of an `up` move.\n",
    "* The `data::Union{Nothing, Dict{Int64, MyBiomialLatticeEquityNodeModel}}` holds each node in the tree; nodes are of type `MyBiomialLatticeEquityNodeModel`\n",
    "\n",
    "Each node in the tree is a `MyBiomialLatticeEquityNodeModel` type which has two important fields:\n",
    "* The `price::Float64` field holds the price value for a node\n",
    "* The `probability::Float64` field holds the probability value associated with this node"
   ]
  },
  {
   "cell_type": "markdown",
   "id": "74168f29-f21d-46c3-b54c-559e59766f04",
   "metadata": {},
   "source": [
    "### Functions\n",
    "`Include.jl` loads the following [Julia functions](https://docs.julialang.org/en/v1/manual/functions/):\n",
    "\n",
    "`MyPortfolioDataSet() |> x-> x[\"dataset\"] -> DataFrame` \n",
    " > This function loads historical share price data. The historical share price data is returned to the caller as a Dictionary of [DataFrames](https://dataframes.juliadata.org/stable/) with the fields: `volume`,`volume_weighted_average_price`,`open`,`close`,`high`, and `low,number_of_transactions`. The `keys` of the Dictionary are `firm_id` values.\n",
    " \n",
    "`function analyze(R::Array{Float64,1};  Δt::Float64 = (1.0/252.0)) -> Tuple{Float64,Float64,Float64}`\n",
    "> The `analyze(...)` function takes an array of logarithmic return values in the `R` argument and a value of the time-step size of the simulation in the $\\Delta{t}$ parameter (default value of 1-day) and returns estimated values for the lattice model parameters $(u,d,p)$.  \n",
    "`function build(model::Type{MyBinomialEquityPriceTree}, data::NamedTuple) -> MyBinomialEquityPriceTree` \n",
    "> This function takes information in the `data` [NamedTuple](https://docs.julialang.org/en/v1/base/base/#Core.NamedTuple) argument (the $(u,d,p)$ values) and returns an instance of the `MyBinomialEquityPriceTree` [mutable type](https://docs.julialang.org/en/v1/manual/types/#Mutable-Composite-Types). Note: the `MyBinomialEquityPriceTree` returned from the `build(...)` function does not have price or probability information computed yet. Call the `populate(…)` function to populate this data.\n",
    "\n",
    "`function populate(model::MyBinomialEquityPriceTree, Sₒ::Float64, h::Int) -> MyBinomialEquityPriceTree`\n",
    "> The `populate(...)` function takes the `model::MyBinomialEquityPriceTree` instance returned from `build(...)`, a starting share price $S_{o}$ and the height of the tree, i.e., the number of time steps to simulate, and returns an updated `model::MyBinomialEquityPriceTree` instance with the price and probabilities computed for each node in the tree."
   ]
  },
  {
   "cell_type": "code",
   "execution_count": 1,
   "id": "44c62894-3bb8-4fe1-b020-d17d2ca28d74",
   "metadata": {
    "tags": []
   },
   "outputs": [
    {
     "name": "stderr",
     "output_type": "stream",
     "text": [
      "\u001b[32m\u001b[1m    Updating\u001b[22m\u001b[39m git-repo `https://github.com/varnerlab/VLQuantitativeFinancePackage.jl.git`\n"
     ]
    },
    {
     "name": "stderr",
     "output_type": "stream",
     "text": [
      "\u001b[32m\u001b[1m   Resolving\u001b[22m\u001b[39m package versions...\n"
     ]
    },
    {
     "name": "stderr",
     "output_type": "stream",
     "text": [
      "\u001b[32m\u001b[1m  No Changes\u001b[22m\u001b[39m to `C:\\Users\\Loaner\\Documents\\GitHub\\CHEME-5660-Labs-F23\\CHEME-5660-Labs-F23\\Project.toml`\n",
      "\u001b[32m\u001b[1m  No Changes\u001b[22m\u001b[39m to `C:\\Users\\Loaner\\Documents\\GitHub\\CHEME-5660-Labs-F23\\CHEME-5660-Labs-F23\\Manifest.toml`"
     ]
    },
    {
     "name": "stderr",
     "output_type": "stream",
     "text": [
      "\n"
     ]
    },
    {
     "name": "stderr",
     "output_type": "stream",
     "text": [
      "\u001b[32m\u001b[1m  Activating\u001b[22m\u001b[39m project at `c:\\Users\\Loaner\\Documents\\GitHub\\CHEME-5660-Labs-F23\\CHEME-5660-Labs-F23`\n"
     ]
    },
    {
     "name": "stderr",
     "output_type": "stream",
     "text": [
      "\u001b[32m\u001b[1m  No Changes\u001b[22m\u001b[39m to `C:\\Users\\Loaner\\Documents\\GitHub\\CHEME-5660-Labs-F23\\CHEME-5660-Labs-F23\\Project.toml`\n",
      "\u001b[32m\u001b[1m  No Changes\u001b[22m\u001b[39m to `C:\\Users\\Loaner\\Documents\\GitHub\\CHEME-5660-Labs-F23\\CHEME-5660-Labs-F23\\Manifest.toml`\n"
     ]
    },
    {
     "name": "stderr",
     "output_type": "stream",
     "text": [
      "\u001b[32m\u001b[1m    Updating\u001b[22m\u001b[39m registry at `C:\\Users\\Loaner\\.julia\\registries\\General.toml`\n",
      "\u001b[32m\u001b[1m    Updating\u001b[22m\u001b[39m git-repo `https://github.com/varnerlab/VLQuantitativeFinancePackage.jl.git`"
     ]
    },
    {
     "name": "stderr",
     "output_type": "stream",
     "text": [
      "\n",
      "\u001b[32m\u001b[1m  No Changes\u001b[22m\u001b[39m to `C:\\Users\\Loaner\\Documents\\GitHub\\CHEME-5660-Labs-F23\\CHEME-5660-Labs-F23\\Project.toml`\n",
      "\u001b[32m\u001b[1m  No Changes\u001b[22m\u001b[39m to `C:\\Users\\Loaner\\Documents\\GitHub\\CHEME-5660-Labs-F23\\CHEME-5660-Labs-F23\\Manifest.toml`\n"
     ]
    }
   ],
   "source": [
    "include(\"Include.jl\");"
   ]
  },
  {
   "cell_type": "markdown",
   "id": "fe6a983c-1e58-42cb-b439-268ceb267915",
   "metadata": {},
   "source": [
    "#### Constants"
   ]
  },
  {
   "cell_type": "code",
   "execution_count": 2,
   "id": "055d4305-3c8a-4257-a39f-8303660ba259",
   "metadata": {
    "tags": []
   },
   "outputs": [],
   "source": [
    "max_number_of_records = 1256;\n",
    "Δt = (1/252);\n",
    "TSIM = 21;"
   ]
  },
  {
   "cell_type": "markdown",
   "id": "96603a5d-2b7f-4b92-83a7-641e22486c3c",
   "metadata": {},
   "source": [
    "## Task 1: Test lattice model using example from Hull\n",
    "Let’s start by calculating the hypothetical share price from an example (reproduced from Chapter 13 of Hull) before diving into historical data analysis. The lattice in this example has three levels (`L=0,1,2`), with an initial share price of $S_{\\circ}=20.0$ USD. An `up` move has a probability of `p = 0.6523` and a magnitude of `u = 1.1`, while a `down` move has a magnitude of  `d = 0.9`.\n",
    "\n",
    "### Implementation\n",
    "Calculating the future share price with a binomial lattice requires setting the model’s parameters, including the initial share price (as a `Float64`), the number of time steps to simulate into the future, which equals the number levels of the tree starting from zero (as an `Int64`), the up and down move magnitudes (as `Float64` values), and the probability of an up move (as a `Float64`):"
   ]
  },
  {
   "cell_type": "code",
   "execution_count": 3,
   "id": "9546b572-678d-447d-bb3e-59b090d4548f",
   "metadata": {
    "tags": []
   },
   "outputs": [],
   "source": [
    "Sₒ,T,u,d,p = 20.0,2,1.1,0.9,0.6523;"
   ]
  },
  {
   "cell_type": "markdown",
   "id": "59c42f2e-fce7-40b6-9cad-29b8871cd2d8",
   "metadata": {},
   "source": [
    "Once these values are set, we use the `build(…)` function to create an empty lattice model of type `MyBinomialEquityPriceTree`, which is then passed to the `populate(…)` function using the [Julia piping operator](https://docs.julialang.org/en/v1/manual/functions/#Function-composition-and-piping) `|>`. The `populate(…)` function calculates the prices and probabilities of each node (type `MyBiomialLatticeEquityNodeModel`) in the tree:"
   ]
  },
  {
   "cell_type": "code",
   "execution_count": 4,
   "id": "f2129acf-ffe5-4ce8-8776-3915c89ef722",
   "metadata": {
    "tags": []
   },
   "outputs": [],
   "source": [
    "test_model = build(MyBinomialEquityPriceTree, (\n",
    "        u = u, d = d, p = p)) |> (x-> populate(x, Sₒ = Sₒ, h = T));"
   ]
  },
  {
   "cell_type": "code",
   "execution_count": 5,
   "id": "f8ceb8a7-4ef4-4e03-bbbb-c829fca25f05",
   "metadata": {
    "tags": []
   },
   "outputs": [
    {
     "data": {
      "text/plain": [
       "1.0"
      ]
     },
     "metadata": {},
     "output_type": "display_data"
    }
   ],
   "source": [
    "N3 = test_model.data[3].probability\n",
    "N4 = test_model.data[4].probability\n",
    "N5 = test_model.data[5].probability\n",
    "\n",
    "N3+N4+N5"
   ]
  },
  {
   "cell_type": "markdown",
   "id": "390ba0c8-2c94-4da2-94e9-0085a3576c59",
   "metadata": {},
   "source": [
    "Finally, we compare the price values we calculated to those reported by Hull. First, we populate the `hull_price_dictionary` dictionary with the price values at each node in the tree:"
   ]
  },
  {
   "cell_type": "code",
   "execution_count": 6,
   "id": "9722deb5-8732-433e-9492-7b8f199b5fef",
   "metadata": {
    "tags": []
   },
   "outputs": [],
   "source": [
    "hull_price_dictionary = Dict(0=>20.0, 1=>22.0,2=>18.0,3=>24.2,4=>19.8,5=>16.2);"
   ]
  },
  {
   "cell_type": "markdown",
   "id": "fa9c8157-6c24-4c97-b1f6-951daef57771",
   "metadata": {},
   "source": [
    "Next, we compare the `Hull` values to those we just calculated. We populate the `hull_test_data_table`, which is of type `DataFrame`, using a `for` loop:"
   ]
  },
  {
   "cell_type": "code",
   "execution_count": 7,
   "id": "16637523-730d-4094-b902-d5671ea7c419",
   "metadata": {
    "tags": []
   },
   "outputs": [],
   "source": [
    "number_of_nodes = length(test_model.data);\n",
    "hull_test_data_table = DataFrame();\n",
    "for i ∈ 0:(number_of_nodes-1)\n",
    "    \n",
    "    row_data = (\n",
    "        index = i,\n",
    "        hull_price = hull_price_dictionary[i],\n",
    "        our_price = test_model.data[i].price, \n",
    "        isapproxequal = isapprox(hull_price_dictionary[i], test_model.data[i].price, rtol=1e-4)\n",
    "    );\n",
    "    \n",
    "    push!(hull_test_data_table, row_data)\n",
    "end"
   ]
  },
  {
   "cell_type": "code",
   "execution_count": 8,
   "id": "64884105-aa31-42d7-a4a4-cdfdf7b53b78",
   "metadata": {
    "tags": []
   },
   "outputs": [
    {
     "data": {
      "text/html": [
       "<div><div style = \"float: left;\"><span>6×4 DataFrame</span></div><div style = \"clear: both;\"></div></div><div class = \"data-frame\" style = \"overflow-x: scroll;\"><table class = \"data-frame\" style = \"margin-bottom: 6px;\"><thead><tr class = \"header\"><th class = \"rowNumber\" style = \"font-weight: bold; text-align: right;\">Row</th><th style = \"text-align: left;\">index</th><th style = \"text-align: left;\">hull_price</th><th style = \"text-align: left;\">our_price</th><th style = \"text-align: left;\">isapproxequal</th></tr><tr class = \"subheader headerLastRow\"><th class = \"rowNumber\" style = \"font-weight: bold; text-align: right;\"></th><th title = \"Int64\" style = \"text-align: left;\">Int64</th><th title = \"Float64\" style = \"text-align: left;\">Float64</th><th title = \"Float64\" style = \"text-align: left;\">Float64</th><th title = \"Bool\" style = \"text-align: left;\">Bool</th></tr></thead><tbody><tr><td class = \"rowNumber\" style = \"font-weight: bold; text-align: right;\">1</td><td style = \"text-align: right;\">0</td><td style = \"text-align: right;\">20.0</td><td style = \"text-align: right;\">20.0</td><td style = \"text-align: right;\">true</td></tr><tr><td class = \"rowNumber\" style = \"font-weight: bold; text-align: right;\">2</td><td style = \"text-align: right;\">1</td><td style = \"text-align: right;\">22.0</td><td style = \"text-align: right;\">22.0</td><td style = \"text-align: right;\">true</td></tr><tr><td class = \"rowNumber\" style = \"font-weight: bold; text-align: right;\">3</td><td style = \"text-align: right;\">2</td><td style = \"text-align: right;\">18.0</td><td style = \"text-align: right;\">18.0</td><td style = \"text-align: right;\">true</td></tr><tr><td class = \"rowNumber\" style = \"font-weight: bold; text-align: right;\">4</td><td style = \"text-align: right;\">3</td><td style = \"text-align: right;\">24.2</td><td style = \"text-align: right;\">24.2</td><td style = \"text-align: right;\">true</td></tr><tr><td class = \"rowNumber\" style = \"font-weight: bold; text-align: right;\">5</td><td style = \"text-align: right;\">4</td><td style = \"text-align: right;\">19.8</td><td style = \"text-align: right;\">19.8</td><td style = \"text-align: right;\">true</td></tr><tr><td class = \"rowNumber\" style = \"font-weight: bold; text-align: right;\">6</td><td style = \"text-align: right;\">5</td><td style = \"text-align: right;\">16.2</td><td style = \"text-align: right;\">16.2</td><td style = \"text-align: right;\">true</td></tr></tbody></table></div>"
      ],
      "text/latex": [
       "\\begin{tabular}{r|cccc}\n",
       "\t& index & hull\\_price & our\\_price & isapproxequal\\\\\n",
       "\t\\hline\n",
       "\t& Int64 & Float64 & Float64 & Bool\\\\\n",
       "\t\\hline\n",
       "\t1 & 0 & 20.0 & 20.0 & 1 \\\\\n",
       "\t2 & 1 & 22.0 & 22.0 & 1 \\\\\n",
       "\t3 & 2 & 18.0 & 18.0 & 1 \\\\\n",
       "\t4 & 3 & 24.2 & 24.2 & 1 \\\\\n",
       "\t5 & 4 & 19.8 & 19.8 & 1 \\\\\n",
       "\t6 & 5 & 16.2 & 16.2 & 1 \\\\\n",
       "\\end{tabular}\n"
      ],
      "text/plain": [
       "\u001b[1m6×4 DataFrame\u001b[0m\n",
       "\u001b[1m Row \u001b[0m│\u001b[1m index \u001b[0m\u001b[1m hull_price \u001b[0m\u001b[1m our_price \u001b[0m\u001b[1m isapproxequal \u001b[0m\n",
       "     │\u001b[90m Int64 \u001b[0m\u001b[90m Float64    \u001b[0m\u001b[90m Float64   \u001b[0m\u001b[90m Bool          \u001b[0m\n",
       "─────┼─────────────────────────────────────────────\n",
       "   1 │     0        20.0       20.0           true\n",
       "   2 │     1        22.0       22.0           true\n",
       "   3 │     2        18.0       18.0           true\n",
       "   4 │     3        24.2       24.2           true\n",
       "   5 │     4        19.8       19.8           true\n",
       "   6 │     5        16.2       16.2           true"
      ]
     },
     "metadata": {},
     "output_type": "display_data"
    }
   ],
   "source": [
    "hull_test_data_table"
   ]
  },
  {
   "cell_type": "markdown",
   "id": "db46d400",
   "metadata": {},
   "source": [
    "### Discussion\n",
    "#### Q1.1 (Conceptual): Can you visualize this lattice? What would be the total number of nodes if this were extended another level?"
   ]
  },
  {
   "cell_type": "markdown",
   "id": "5e853aef",
   "metadata": {},
   "source": [
    "fill me in"
   ]
  },
  {
   "cell_type": "markdown",
   "id": "c3568fc3-dbcd-4487-a8ec-56e3612fef51",
   "metadata": {
    "tags": []
   },
   "source": [
    "## Task 2: Load historical equity dataset, select a random firm\n",
    "We gathered a daily open-high-low-close `dataset` for each firm in the [S&P500](https://en.wikipedia.org/wiki/S%26P_500) for the past five-trading years (a maximum of `1256` data points per firm). However, not all the firms in the `dataset` have the maximum number of trading days, i.e., some firms are missing information for various reasons; perhaps they were acquired, merged, or delisted, etc. We will exclude these firms from the `dataset`. We load the price `dataset` by calling the `MyPortfolioDataSet()` function:"
   ]
  },
  {
   "cell_type": "code",
   "execution_count": 9,
   "id": "97598419-3d1f-463b-a80d-71adeb90e23e",
   "metadata": {
    "tags": []
   },
   "outputs": [],
   "source": [
    "dataset = MyPortfolioDataSet() |> x-> x[\"dataset\"];"
   ]
  },
  {
   "cell_type": "code",
   "execution_count": 10,
   "id": "faee2c94-af3b-48e5-af6d-5bd216d64a7e",
   "metadata": {
    "tags": []
   },
   "outputs": [
    {
     "ename": "KeyError",
     "evalue": "KeyError: key 11 not found",
     "output_type": "error",
     "traceback": [
      "KeyError: key 11 not found\n",
      "\n",
      "Stacktrace:\n",
      " [1] getindex(h::Dict{String, DataFrame}, key::Int64)\n",
      "   @ Base .\\dict.jl:484\n",
      " [2] top-level scope\n",
      "   @ c:\\Users\\Loaner\\Documents\\GitHub\\CHEME-5660-Labs-F23\\CHEME-5660-Labs-F23\\CHEME-5660-L6b-EquityPriceLatticeModels.ipynb:1"
     ]
    }
   ],
   "source": [
    "dataset[11]"
   ]
  },
  {
   "cell_type": "markdown",
   "id": "db5b0ca1-6686-4b70-85d3-699a9ad5903c",
   "metadata": {},
   "source": [
    "The all keys array holds the list of firm indexes in the dataset that have complete data, i.e., all `1256` data values: "
   ]
  },
  {
   "cell_type": "code",
   "execution_count": 11,
   "id": "c42694c0-c9f0-429b-a0d7-8104c5bfa2de",
   "metadata": {
    "tags": []
   },
   "outputs": [],
   "source": [
    "list_of_all_firms = keys(dataset) |> collect |> sort;"
   ]
  },
  {
   "cell_type": "markdown",
   "id": "20734753-68f2-456f-8548-1f92ece62fe8",
   "metadata": {},
   "source": [
    "Let's select a random firm with `firm_index` to explore in this study by calling the `rand` function of the keys of the `dataset` dictionary, and then pull the histiorical data out of `dataset` that associated with this firm and store it in the variable `firm_data`:"
   ]
  },
  {
   "cell_type": "code",
   "execution_count": 12,
   "id": "8b5cceb3-c221-40e9-bdb5-f6d4fe58dd38",
   "metadata": {
    "tags": []
   },
   "outputs": [
    {
     "data": {
      "text/plain": [
       "215"
      ]
     },
     "metadata": {},
     "output_type": "display_data"
    }
   ],
   "source": [
    "# random_firm_index = list_of_all_firms |> rand; \n",
    "random_firm_index = 215"
   ]
  },
  {
   "cell_type": "markdown",
   "id": "54ea5ffe-efd0-49fc-aedc-a021b2f0ce40",
   "metadata": {},
   "source": [
    "However, while it is sometimes convenient to work with the data using the `random_firm_index`, often we specify the [ticker symbol](https://en.wikipedia.org/wiki/Ticker_symbol#:~:text=A%20ticker%20symbol%20or%20stock,on%20a%20particular%20stock%20market.) instead. To facilitate this, let's load a mapping between the `random_firm_index` and the ticker symbols using the `MyFirmMappingDataSet()` function. We store this mapping in the `firm_mapping_df` variable, which is of type `DataFrame`:"
   ]
  },
  {
   "cell_type": "code",
   "execution_count": 13,
   "id": "61e30e1e-a968-43b7-b14d-31b0dc831be6",
   "metadata": {
    "tags": []
   },
   "outputs": [
    {
     "data": {
      "text/html": [
       "<div><div style = \"float: left;\"><span>505×3 DataFrame</span></div><div style = \"float: right;\"><span style = \"font-style: italic;\">480 rows omitted</span></div><div style = \"clear: both;\"></div></div><div class = \"data-frame\" style = \"overflow-x: scroll;\"><table class = \"data-frame\" style = \"margin-bottom: 6px;\"><thead><tr class = \"header\"><th class = \"rowNumber\" style = \"font-weight: bold; text-align: right;\">Row</th><th style = \"text-align: left;\">Symbol</th><th style = \"text-align: left;\">Name</th><th style = \"text-align: left;\">Sector</th></tr><tr class = \"subheader headerLastRow\"><th class = \"rowNumber\" style = \"font-weight: bold; text-align: right;\"></th><th title = \"String7\" style = \"text-align: left;\">String7</th><th title = \"String\" style = \"text-align: left;\">String</th><th title = \"String31\" style = \"text-align: left;\">String31</th></tr></thead><tbody><tr><td class = \"rowNumber\" style = \"font-weight: bold; text-align: right;\">1</td><td style = \"text-align: left;\">MMM</td><td style = \"text-align: left;\">3M</td><td style = \"text-align: left;\">Industrials</td></tr><tr><td class = \"rowNumber\" style = \"font-weight: bold; text-align: right;\">2</td><td style = \"text-align: left;\">AOS</td><td style = \"text-align: left;\">A. O. Smith</td><td style = \"text-align: left;\">Industrials</td></tr><tr><td class = \"rowNumber\" style = \"font-weight: bold; text-align: right;\">3</td><td style = \"text-align: left;\">ABT</td><td style = \"text-align: left;\">Abbott Laboratories</td><td style = \"text-align: left;\">Health Care</td></tr><tr><td class = \"rowNumber\" style = \"font-weight: bold; text-align: right;\">4</td><td style = \"text-align: left;\">ABBV</td><td style = \"text-align: left;\">AbbVie</td><td style = \"text-align: left;\">Health Care</td></tr><tr><td class = \"rowNumber\" style = \"font-weight: bold; text-align: right;\">5</td><td style = \"text-align: left;\">ABMD</td><td style = \"text-align: left;\">Abiomed</td><td style = \"text-align: left;\">Health Care</td></tr><tr><td class = \"rowNumber\" style = \"font-weight: bold; text-align: right;\">6</td><td style = \"text-align: left;\">ACN</td><td style = \"text-align: left;\">Accenture</td><td style = \"text-align: left;\">Information Technology</td></tr><tr><td class = \"rowNumber\" style = \"font-weight: bold; text-align: right;\">7</td><td style = \"text-align: left;\">ATVI</td><td style = \"text-align: left;\">Activision Blizzard</td><td style = \"text-align: left;\">Communication Services</td></tr><tr><td class = \"rowNumber\" style = \"font-weight: bold; text-align: right;\">8</td><td style = \"text-align: left;\">ADM</td><td style = \"text-align: left;\">ADM</td><td style = \"text-align: left;\">Consumer Staples</td></tr><tr><td class = \"rowNumber\" style = \"font-weight: bold; text-align: right;\">9</td><td style = \"text-align: left;\">ADBE</td><td style = \"text-align: left;\">Adobe</td><td style = \"text-align: left;\">Information Technology</td></tr><tr><td class = \"rowNumber\" style = \"font-weight: bold; text-align: right;\">10</td><td style = \"text-align: left;\">AAP</td><td style = \"text-align: left;\">Advance Auto Parts</td><td style = \"text-align: left;\">Consumer Discretionary</td></tr><tr><td class = \"rowNumber\" style = \"font-weight: bold; text-align: right;\">11</td><td style = \"text-align: left;\">AMD</td><td style = \"text-align: left;\">Advanced Micro Devices</td><td style = \"text-align: left;\">Information Technology</td></tr><tr><td class = \"rowNumber\" style = \"font-weight: bold; text-align: right;\">12</td><td style = \"text-align: left;\">AES</td><td style = \"text-align: left;\">AES Corp</td><td style = \"text-align: left;\">Utilities</td></tr><tr><td class = \"rowNumber\" style = \"font-weight: bold; text-align: right;\">13</td><td style = \"text-align: left;\">AFL</td><td style = \"text-align: left;\">Aflac</td><td style = \"text-align: left;\">Financials</td></tr><tr><td style = \"text-align: right;\">&vellip;</td><td style = \"text-align: right;\">&vellip;</td><td style = \"text-align: right;\">&vellip;</td><td style = \"text-align: right;\">&vellip;</td></tr><tr><td class = \"rowNumber\" style = \"font-weight: bold; text-align: right;\">494</td><td style = \"text-align: left;\">WHR</td><td style = \"text-align: left;\">Whirlpool Corporation</td><td style = \"text-align: left;\">Consumer Discretionary</td></tr><tr><td class = \"rowNumber\" style = \"font-weight: bold; text-align: right;\">495</td><td style = \"text-align: left;\">WMB</td><td style = \"text-align: left;\">Williams Companies</td><td style = \"text-align: left;\">Energy</td></tr><tr><td class = \"rowNumber\" style = \"font-weight: bold; text-align: right;\">496</td><td style = \"text-align: left;\">WLTW</td><td style = \"text-align: left;\">Willis Towers Watson</td><td style = \"text-align: left;\">Financials</td></tr><tr><td class = \"rowNumber\" style = \"font-weight: bold; text-align: right;\">497</td><td style = \"text-align: left;\">WYNN</td><td style = \"text-align: left;\">Wynn Resorts</td><td style = \"text-align: left;\">Consumer Discretionary</td></tr><tr><td class = \"rowNumber\" style = \"font-weight: bold; text-align: right;\">498</td><td style = \"text-align: left;\">XEL</td><td style = \"text-align: left;\">Xcel Energy</td><td style = \"text-align: left;\">Utilities</td></tr><tr><td class = \"rowNumber\" style = \"font-weight: bold; text-align: right;\">499</td><td style = \"text-align: left;\">XLNX</td><td style = \"text-align: left;\">Xilinx</td><td style = \"text-align: left;\">Information Technology</td></tr><tr><td class = \"rowNumber\" style = \"font-weight: bold; text-align: right;\">500</td><td style = \"text-align: left;\">XYL</td><td style = \"text-align: left;\">Xylem</td><td style = \"text-align: left;\">Industrials</td></tr><tr><td class = \"rowNumber\" style = \"font-weight: bold; text-align: right;\">501</td><td style = \"text-align: left;\">YUM</td><td style = \"text-align: left;\">Yum! Brands</td><td style = \"text-align: left;\">Consumer Discretionary</td></tr><tr><td class = \"rowNumber\" style = \"font-weight: bold; text-align: right;\">502</td><td style = \"text-align: left;\">ZBRA</td><td style = \"text-align: left;\">Zebra Technologies</td><td style = \"text-align: left;\">Information Technology</td></tr><tr><td class = \"rowNumber\" style = \"font-weight: bold; text-align: right;\">503</td><td style = \"text-align: left;\">ZBH</td><td style = \"text-align: left;\">Zimmer Biomet</td><td style = \"text-align: left;\">Health Care</td></tr><tr><td class = \"rowNumber\" style = \"font-weight: bold; text-align: right;\">504</td><td style = \"text-align: left;\">ZION</td><td style = \"text-align: left;\">Zions Bancorp</td><td style = \"text-align: left;\">Financials</td></tr><tr><td class = \"rowNumber\" style = \"font-weight: bold; text-align: right;\">505</td><td style = \"text-align: left;\">ZTS</td><td style = \"text-align: left;\">Zoetis</td><td style = \"text-align: left;\">Health Care</td></tr></tbody></table></div>"
      ],
      "text/latex": [
       "\\begin{tabular}{r|ccc}\n",
       "\t& Symbol & Name & Sector\\\\\n",
       "\t\\hline\n",
       "\t& String7 & String & String31\\\\\n",
       "\t\\hline\n",
       "\t1 & MMM & 3M & Industrials \\\\\n",
       "\t2 & AOS & A. O. Smith & Industrials \\\\\n",
       "\t3 & ABT & Abbott Laboratories & Health Care \\\\\n",
       "\t4 & ABBV & AbbVie & Health Care \\\\\n",
       "\t5 & ABMD & Abiomed & Health Care \\\\\n",
       "\t6 & ACN & Accenture & Information Technology \\\\\n",
       "\t7 & ATVI & Activision Blizzard & Communication Services \\\\\n",
       "\t8 & ADM & ADM & Consumer Staples \\\\\n",
       "\t9 & ADBE & Adobe & Information Technology \\\\\n",
       "\t10 & AAP & Advance Auto Parts & Consumer Discretionary \\\\\n",
       "\t11 & AMD & Advanced Micro Devices & Information Technology \\\\\n",
       "\t12 & AES & AES Corp & Utilities \\\\\n",
       "\t13 & AFL & Aflac & Financials \\\\\n",
       "\t14 & A & Agilent Technologies & Health Care \\\\\n",
       "\t15 & APD & Air Products \\& Chemicals & Materials \\\\\n",
       "\t16 & AKAM & Akamai Technologies & Information Technology \\\\\n",
       "\t17 & ALK & Alaska Air Group & Industrials \\\\\n",
       "\t18 & ALB & Albemarle Corporation & Materials \\\\\n",
       "\t19 & ARE & Alexandria Real Estate Equities & Real Estate \\\\\n",
       "\t20 & ALGN & Align Technology & Health Care \\\\\n",
       "\t21 & ALLE & Allegion & Industrials \\\\\n",
       "\t22 & LNT & Alliant Energy & Utilities \\\\\n",
       "\t23 & ALL & Allstate Corp & Financials \\\\\n",
       "\t24 & GOOGL & Alphabet (Class A) & Communication Services \\\\\n",
       "\t$\\dots$ & $\\dots$ & $\\dots$ & $\\dots$ \\\\\n",
       "\\end{tabular}\n"
      ],
      "text/plain": [
       "\u001b[1m505×3 DataFrame\u001b[0m\n",
       "\u001b[1m Row \u001b[0m│\u001b[1m Symbol  \u001b[0m\u001b[1m Name                   \u001b[0m\u001b[1m Sector                 \u001b[0m\n",
       "     │\u001b[90m String7 \u001b[0m\u001b[90m String                 \u001b[0m\u001b[90m String31               \u001b[0m\n",
       "─────┼─────────────────────────────────────────────────────────\n",
       "   1 │ MMM      3M                      Industrials\n",
       "   2 │ AOS      A. O. Smith             Industrials\n",
       "   3 │ ABT      Abbott Laboratories     Health Care\n",
       "   4 │ ABBV     AbbVie                  Health Care\n",
       "   5 │ ABMD     Abiomed                 Health Care\n",
       "   6 │ ACN      Accenture               Information Technology\n",
       "   7 │ ATVI     Activision Blizzard     Communication Services\n",
       "   8 │ ADM      ADM                     Consumer Staples\n",
       "  ⋮  │    ⋮               ⋮                       ⋮\n",
       " 499 │ XLNX     Xilinx                  Information Technology\n",
       " 500 │ XYL      Xylem                   Industrials\n",
       " 501 │ YUM      Yum! Brands             Consumer Discretionary\n",
       " 502 │ ZBRA     Zebra Technologies      Information Technology\n",
       " 503 │ ZBH      Zimmer Biomet           Health Care\n",
       " 504 │ ZION     Zions Bancorp           Financials\n",
       " 505 │ ZTS      Zoetis                  Health Care\n",
       "\u001b[36m                                               490 rows omitted\u001b[0m"
      ]
     },
     "metadata": {},
     "output_type": "display_data"
    }
   ],
   "source": [
    "firm_mapping_df = MyFirmMappingDataSet()"
   ]
  },
  {
   "cell_type": "code",
   "execution_count": 14,
   "id": "b9c600b3-d214-4b44-a517-d80ba6e41e6b",
   "metadata": {
    "tags": []
   },
   "outputs": [
    {
     "ename": "KeyError",
     "evalue": "KeyError: key 215 not found",
     "output_type": "error",
     "traceback": [
      "KeyError: key 215 not found\n",
      "\n",
      "Stacktrace:\n",
      " [1] getindex(h::Dict{String, DataFrame}, key::Int64)\n",
      "   @ Base .\\dict.jl:484\n",
      " [2] top-level scope\n",
      "   @ c:\\Users\\Loaner\\Documents\\GitHub\\CHEME-5660-Labs-F23\\CHEME-5660-Labs-F23\\CHEME-5660-L6b-EquityPriceLatticeModels.ipynb:1"
     ]
    }
   ],
   "source": [
    "random_firm_data = dataset[random_firm_index]"
   ]
  },
  {
   "cell_type": "code",
   "execution_count": 15,
   "id": "ca1674a6-143e-441f-8883-97c186c90eb0",
   "metadata": {
    "tags": []
   },
   "outputs": [
    {
     "name": "stdout",
     "output_type": "stream",
     "text": [
      "The (randomly) selected firm has index: 215 and ticker GIS\n"
     ]
    }
   ],
   "source": [
    "println(\"The (randomly) selected firm has index: $(random_firm_index) and ticker $(firm_mapping_df[random_firm_index,:Symbol])\")"
   ]
  },
  {
   "cell_type": "markdown",
   "id": "5d05dd6a",
   "metadata": {},
   "source": [
    "### Discussion\n",
    "\n",
    "#### Q2.1 (Data Manipulation): What is the full name and sector of this randomly selected firm? (Use `firm_mapping_df`)"
   ]
  },
  {
   "cell_type": "code",
   "execution_count": 16,
   "id": "dab320ba",
   "metadata": {},
   "outputs": [],
   "source": [
    "# FILL ME IN"
   ]
  },
  {
   "cell_type": "code",
   "execution_count": 17,
   "id": "e441a6fc-c63e-4cca-99e4-ffc77bf42359",
   "metadata": {
    "tags": []
   },
   "outputs": [
    {
     "data": {
      "text/html": [
       "<div><div style = \"float: left;\"><span>DataFrameRow (3 columns)</span></div><div style = \"clear: both;\"></div></div><div class = \"data-frame\" style = \"overflow-x: scroll;\"><table class = \"data-frame\" style = \"margin-bottom: 6px;\"><thead><tr class = \"header\"><th class = \"rowLabel\" style = \"font-weight: bold; text-align: right;\">Row</th><th style = \"text-align: left;\">Symbol</th><th style = \"text-align: left;\">Name</th><th style = \"text-align: left;\">Sector</th></tr><tr class = \"subheader headerLastRow\"><th class = \"rowLabel\" style = \"font-weight: bold; text-align: right;\"></th><th title = \"String7\" style = \"text-align: left;\">String7</th><th title = \"String\" style = \"text-align: left;\">String</th><th title = \"String31\" style = \"text-align: left;\">String31</th></tr></thead><tbody><tr><td class = \"rowLabel\" style = \"font-weight: bold; text-align: right;\">215</td><td style = \"text-align: left;\">GIS</td><td style = \"text-align: left;\">General Mills</td><td style = \"text-align: left;\">Consumer Staples</td></tr></tbody></table></div>"
      ],
      "text/latex": [
       "\\begin{tabular}{r|ccc}\n",
       "\t& Symbol & Name & Sector\\\\\n",
       "\t\\hline\n",
       "\t& String7 & String & String31\\\\\n",
       "\t\\hline\n",
       "\t215 & GIS & General Mills & Consumer Staples \\\\\n",
       "\\end{tabular}\n"
      ],
      "text/plain": [
       "\u001b[1mDataFrameRow\u001b[0m\n",
       "\u001b[1m Row \u001b[0m│\u001b[1m Symbol  \u001b[0m\u001b[1m Name          \u001b[0m\u001b[1m Sector           \u001b[0m\n",
       "     │\u001b[90m String7 \u001b[0m\u001b[90m String        \u001b[0m\u001b[90m String31         \u001b[0m\n",
       "─────┼──────────────────────────────────────────\n",
       " 215 │ GIS      General Mills  Consumer Staples"
      ]
     },
     "metadata": {},
     "output_type": "display_data"
    }
   ],
   "source": [
    "firm_mapping_df[random_firm_index,:]"
   ]
  },
  {
   "cell_type": "markdown",
   "id": "07824201-8993-4dfa-aeb5-7bedd874a6d2",
   "metadata": {
    "tags": []
   },
   "source": [
    "## Task 3: Estimate the up, down and probability of an up move from random firm data\n",
    "After validating our lattice implementation, it's time to utilize historical data to compute a share price prediction. To create a binomial lattice model for future share prices, we need to estimate three critical parameters: $p$, $u$, and $d$.\n",
    "\n",
    "* The $p$ parameter represents the probability of a share price increase or an `up` move between two periods $j\\rightarrow{j+1}$. As a binary lattice model only allows `up` and `down` moves, the probability of a `down` move is $1-p$.\n",
    "* The $u$ parameter represents the amount of an `up` move. If $S_{j}$ stands for the share price in period $j$, and $S_{j+1}$ is the share price in the next period, then an `up` move will give $S_{j+1} = u\\cdot{S}_{j}$.\n",
    "* The $d$ parameter represents the amount of a `down` move. If $S_{j}$ stands for the share price in period $j$, and $S_{j+1}$ is the share price in the next period, then a `down` move will give $S_{j+1} = d\\cdot{S}_{j}$."
   ]
  },
  {
   "cell_type": "markdown",
   "id": "37d04dad-363d-440f-9a2e-cb06aa47a5f1",
   "metadata": {},
   "source": [
    "### Task 3a: Estimate the `u`, `d` and probability `p` parameters from data\n",
    "Now that we have loaded the data, we can calculate the number of `up` and `down` moves, and the magnitude of these moves occuring in the dataset. To do this, we assume a share price model of the form:\n",
    "\n",
    "$$\n",
    "S_{j} = \\exp\\left(\\mu_{j,j-1}\\Delta{t}\\right)\\cdot{S_{j-1}}\n",
    "$$\n",
    "\n",
    "where $\\mu_{j,j-1}$ denotes the _growth rate_ (units: 1/time) and $\\Delta{t}$ (units: time) denotes the time step during the time period $(j-1)\\rightarrow{j}$. Solving for the return parameter $\\mu_{j,j-1}$ gives the expression:\n",
    "\n",
    "$$\n",
    "\\mu_{j,j-1} = \\left(\\frac{1}{\\Delta{t}}\\right)\\cdot\\ln\\left(\\frac{S_{j}}{S_{j-1}}\\right)\n",
    "$$\n",
    "\n",
    "We use daily data; thus, the natural time frame between $S_{j-1}$ and $S_{j}$ is a single day. However, subsequently, it will be easier to use an annualized value for the $\\mu$ parameter; thus, we let $\\Delta{t} = 1/252$, i.e., the fraction of a year that occurs in a single trading day.\n",
    "\n",
    "#### Implementation\n",
    "We initialize an `max_number_of_records` $\\times$ `1` array that holds the values for $\\mu_{j,j-1}$, named `log_growth_array`. We then populate the `log_growth_array` using a `for` loop; \n",
    "* During each pass through the loop, we get values for price $S_{j-1}$ and $S_{j}$, i.e., the VWAP for the two days from the dataset `random_firm_data`, and compute (and store) the annualized value of $\\mu_{j,j-1}$ growth parameter in the `log_growth_array`:"
   ]
  },
  {
   "cell_type": "code",
   "execution_count": 18,
   "id": "723149a4-66be-4e40-a8bd-df3589aa639c",
   "metadata": {
    "tags": []
   },
   "outputs": [],
   "source": [
    "# log_growth_array = Array{Float64,1}(undef, max_number_of_records - 1)\n",
    "# for j ∈ 2:max_number_of_records\n",
    "    \n",
    "#     S₁ = random_firm_data[j-1,:volume_weighted_average_price];\n",
    "#     S₂ = random_firm_data[j, :volume_weighted_average_price];\n",
    "#     log_growth_array[j-1] = # FILL ME IN;\n",
    "# end\n",
    "# log_growth_array;"
   ]
  },
  {
   "cell_type": "code",
   "execution_count": 19,
   "id": "9a540cca-1a69-4b38-91c7-63bb8025b450",
   "metadata": {
    "tags": []
   },
   "outputs": [
    {
     "ename": "UndefVarError",
     "evalue": "UndefVarError: `random_firm_data` not defined",
     "output_type": "error",
     "traceback": [
      "UndefVarError: `random_firm_data` not defined\n",
      "\n",
      "Stacktrace:\n",
      " [1] top-level scope\n",
      "   @ c:\\Users\\Loaner\\Documents\\GitHub\\CHEME-5660-Labs-F23\\CHEME-5660-Labs-F23\\CHEME-5660-L6b-EquityPriceLatticeModels.ipynb:4"
     ]
    }
   ],
   "source": [
    "log_growth_array = Array{Float64,1}(undef, max_number_of_records - 1)\n",
    "for j ∈ 2:max_number_of_records\n",
    "    \n",
    "    S₁ = random_firm_data[j-1,:volume_weighted_average_price];\n",
    "    S₂ = random_firm_data[j, :volume_weighted_average_price];\n",
    "    log_growth_array[j-1] = (1/Δt)*log(S₂/S₁)\n",
    "end\n",
    "log_growth_array"
   ]
  },
  {
   "cell_type": "markdown",
   "id": "c022f13d-3129-4d7a-8534-594d1101cc83",
   "metadata": {
    "tags": []
   },
   "source": [
    "Using the `log_growth_array`, we compute the expected magnitide of an `up` move `ū`, the expected magnitide of a `down` move `d̄` , and the estimated probability `p̄` of an `up` move by calling the `analyze(...)` function (this computes the `ū` and `d̄` for the `log return`):"
   ]
  },
  {
   "cell_type": "code",
   "execution_count": 20,
   "id": "af81411e-eea6-4b89-b327-7b4bdc681dc1",
   "metadata": {
    "tags": []
   },
   "outputs": [],
   "source": [
    "(ū,d̄,p̄) = analyze(log_growth_array, Δt = Δt);"
   ]
  },
  {
   "cell_type": "markdown",
   "id": "835fd026",
   "metadata": {},
   "source": [
    "#### Discussion\n",
    "##### Q3.1 (Conceptual): How are these parameters computed? (Looking in the `src/Compute.jl` file may help)"
   ]
  },
  {
   "cell_type": "markdown",
   "id": "747cdf45",
   "metadata": {
    "tags": []
   },
   "source": []
  },
  {
   "cell_type": "markdown",
   "id": "c9893e7e-fa9d-4b83-ba60-49ffab890d7a",
   "metadata": {
    "tags": []
   },
   "source": [
    "### Task 3b: Build binomial lattice model using historical $(u,d,p)$ parameters\n",
    "Let's construct an instance of the `MyBinomialEquityPriceTree` type using the estimated values for `(u,d,p)`. This enables us to calculate the prices and probabilities in the tree. We store the populated model in the variable `model` for future use.\n",
    "\n",
    "Firstly, we need to set a value for the `T` variable, specifying the number of future days to simulate. Time steps are represented in the tree as levels `L = 0,1,..., T`, where each level represents $\\Delta{t}$ units of time, which is a trading day. We then specify the `start_index` as the trading day index in the combined dataset `df`, which will serve as the tree’s starting point or `L=0`. Finally, we can set the variable `Sₒ`, which corresponds to the initial price per share at the root of the tree; we use the [volume-weighted average price (VWAP)](https://en.wikipedia.org/wiki/Volume-weighted_average_price) as the initial condition:"
   ]
  },
  {
   "cell_type": "code",
   "execution_count": 21,
   "id": "ebe52580-48da-4513-a5fb-98ed15e7b70c",
   "metadata": {
    "tags": []
   },
   "outputs": [
    {
     "name": "stdout",
     "output_type": "stream",
     "text": [
      "Visualize Firm-215 between trading days (554 -> 575)\n"
     ]
    }
   ],
   "source": [
    "# start_index = rand(1:(max_number_of_records - TSIM - 1))\n",
    "# stop_index = start_index + TSIM\n",
    "start_index = 554\n",
    "stop_index = start_index + TSIM\n",
    "println(\"Visualize Firm-$(random_firm_index) between trading days ($(start_index) -> $(stop_index))\")"
   ]
  },
  {
   "cell_type": "code",
   "execution_count": 22,
   "id": "d62e2a59-37db-4e59-9988-f5ec2e8c504a",
   "metadata": {
    "tags": []
   },
   "outputs": [
    {
     "ename": "UndefVarError",
     "evalue": "UndefVarError: `random_firm_data` not defined",
     "output_type": "error",
     "traceback": [
      "UndefVarError: `random_firm_data` not defined\n",
      "\n",
      "Stacktrace:\n",
      " [1] top-level scope\n",
      "   @ c:\\Users\\Loaner\\Documents\\GitHub\\CHEME-5660-Labs-F23\\CHEME-5660-Labs-F23\\CHEME-5660-L6b-EquityPriceLatticeModels.ipynb:1"
     ]
    }
   ],
   "source": [
    "Sₒ = random_firm_data[start_index,:volume_weighted_average_price];\n",
    "random_test_model = build(MyBinomialEquityPriceTree, (\n",
    "    u = ū, d = d̄, p = p̄)) |> (x-> populate(x, Sₒ = Sₒ, h = TSIM));\n",
    "println(\"Starting simulation from Sₒ = $(Sₒ) USD/share\")"
   ]
  },
  {
   "cell_type": "markdown",
   "id": "c32d5a74-ab92-4c4a-ae22-7b9179d76f3e",
   "metadata": {},
   "source": [
    "### Task 3c: Visualize binomial lattice simulation"
   ]
  },
  {
   "cell_type": "code",
   "execution_count": 23,
   "id": "1f425808-8422-497f-9101-89363d5937e5",
   "metadata": {
    "tags": []
   },
   "outputs": [
    {
     "ename": "UndefVarError",
     "evalue": "UndefVarError: `random_test_model` not defined",
     "output_type": "error",
     "traceback": [
      "UndefVarError: `random_test_model` not defined\n",
      "\n",
      "Stacktrace:\n",
      " [1] top-level scope\n",
      "   @ c:\\Users\\Loaner\\Documents\\GitHub\\CHEME-5660-Labs-F23\\CHEME-5660-Labs-F23\\CHEME-5660-L6b-EquityPriceLatticeModels.ipynb:2"
     ]
    }
   ],
   "source": [
    "levels = [k for k ∈ 0:(TSIM-1)]\n",
    "expectation = 𝔼(random_test_model, levels; startindex = start_index);\n",
    "variance = Var(random_test_model, levels; startindex = start_index);"
   ]
  },
  {
   "cell_type": "code",
   "execution_count": 24,
   "id": "4ee34b98-2524-4b74-820e-da12fb92983e",
   "metadata": {
    "tags": []
   },
   "outputs": [
    {
     "ename": "UndefVarError",
     "evalue": "UndefVarError: `expectation` not defined",
     "output_type": "error",
     "traceback": [
      "UndefVarError: `expectation` not defined\n",
      "\n",
      "Stacktrace:\n",
      " [1] top-level scope\n",
      "   @ c:\\Users\\Loaner\\Documents\\GitHub\\CHEME-5660-Labs-F23\\CHEME-5660-Labs-F23\\CHEME-5660-L6b-EquityPriceLatticeModels.ipynb:2"
     ]
    }
   ],
   "source": [
    "let \n",
    "    L68 = expectation[:,2] .- sqrt.(variance[:,2])\n",
    "    U68 = expectation[:,2] .+ sqrt.(variance[:,2])\n",
    "    L95 = expectation[:,2] .- 1.96*sqrt.(variance[:,2])\n",
    "    U95 = expectation[:,2] .+ 1.96*sqrt.(variance[:,2])\n",
    "    L99 = expectation[:,2] .- 2.576*sqrt.(variance[:,2])\n",
    "    U99 = expectation[:,2] .+ 2.576*sqrt.(variance[:,2])\n",
    "\n",
    "    T_range = range(start_index,stop=stop_index-1,step=1) |> collect \n",
    "    T_sim = T_range*Δt .- Δt\n",
    "\n",
    "    plot(T_sim, expectation[:,2], fillrange=L68, c=colors[5], alpha=0.3, label=\"\")\n",
    "    plot!(T_sim, expectation[:,2], fillrange=U68, c=colors[6], alpha=0.3, label=\"\")\n",
    "    plot!(T_sim, expectation[:,2], fillrange=L95, c=colors[5], alpha=0.2, label=\"\")\n",
    "    plot!(T_sim, expectation[:,2], fillrange=U95, c=colors[6], alpha=0.2, label=\"\")\n",
    "    plot!(T_sim, expectation[:,2], fillrange=L99, c=colors[5], alpha=0.1, label=\"\")\n",
    "    plot!(T_sim, expectation[:,2], fillrange=U99, c=colors[6], alpha=0.1, label=\"\")\n",
    "    plot!(T_sim, expectation[:,2],c=:black, lw=3,ls=:dash, label=\"expectation\")\n",
    "    plot!(T_sim, random_firm_data[levels .+ start_index, :volume_weighted_average_price],  \n",
    "        lw=4, c=:red, label=\"Firm-$(random_firm_index)\", legend = :topleft)\n",
    "\n",
    "    xlabel!(\"Time (years)\", fontsize=18)\n",
    "    ylabel!(\"Firm-$(random_firm_index) VWAP (USD/share)\", fontsize=18)\n",
    "end"
   ]
  },
  {
   "cell_type": "markdown",
   "id": "2647126c-f9a0-4e6e-82c3-80cfc1d742a0",
   "metadata": {},
   "source": [
    "The black dashed line is the expected share price predicted by the lattice model, while the shaded regions denote $\\mu\\pm{z}\\cdot\\sigma$ for $z=1.0,1.96,2.576$. The solid red line is the [observed VWAP price](https://en.wikipedia.org/wiki/Volume-weighted_average_price) for this firm, and date range."
   ]
  },
  {
   "cell_type": "markdown",
   "id": "5f334dc0-c5f9-402c-99c9-973609a7fc94",
   "metadata": {},
   "source": [
    "### Was this a successful simulation?\n",
    "Determining if a model accurately represents data can be done in various ways, but we will utilize a straightforward functional test. This test involves checking if the simulated price falls within a specified lower bound ($L_{j}$) and upper bound ($U_{j}$) for all times $t_j$ within a given interval ($t_{j}\\in\\mathcal{I}_{k}$). \n",
    "\n",
    "* If the simulation meets this requirement, it is deemed a `success`. The values for $L_{j}$ and $U_{j}$ can be customized, but we set these to $\\mu\\pm{2.576}\\cdot{\\sigma}$, where $\\mu$ represents the expected value and $\\sigma$ is the standard deviation of the geometric Brownian motion simulation. \n",
    "* However, if the actual price exceeds the given bounds at any point, the simulation is considered a `failure`."
   ]
  },
  {
   "cell_type": "code",
   "execution_count": 25,
   "id": "049a1ffc-2955-401b-993d-55714df603c8",
   "metadata": {
    "tags": []
   },
   "outputs": [
    {
     "ename": "UndefVarError",
     "evalue": "UndefVarError: `expectation` not defined",
     "output_type": "error",
     "traceback": [
      "UndefVarError: `expectation` not defined\n",
      "\n",
      "Stacktrace:\n",
      " [1] top-level scope\n",
      "   @ c:\\Users\\Loaner\\Documents\\GitHub\\CHEME-5660-Labs-F23\\CHEME-5660-Labs-F23\\CHEME-5660-L6b-EquityPriceLatticeModels.ipynb:2"
     ]
    }
   ],
   "source": [
    "let\n",
    "    L = expectation[:,2] .- 2.576*sqrt.(variance[:,2])\n",
    "    U = expectation[:,2] .+ 2.576*sqrt.(variance[:,2])\n",
    "    \n",
    "    # check the bounds: if below L, or above U then simulation failed\n",
    "    success_flag = true;\n",
    "    for k ∈ 1:TSIM\n",
    "        \n",
    "        price_value = random_firm_data[start_index+k-1,:volume_weighted_average_price];    \n",
    "        if (price_value < L[k]) || (price_value > U[k])            \n",
    "            success_flag = false;\n",
    "            break;\n",
    "        end\n",
    "    end\n",
    "\n",
    "    println(\"The simultion of the VWAP of Firm-$(random_firm_index) between ($(start_index) -> $(stop_index)) was successful: $(success_flag)\")\n",
    "end"
   ]
  },
  {
   "cell_type": "markdown",
   "id": "cd083845",
   "metadata": {},
   "source": [
    "#### Discussion\n",
    "##### Q3.3: Find an example of a firm and time period that results in a successful simulation. Why do you think this simulation was successful?"
   ]
  },
  {
   "cell_type": "markdown",
   "id": "15326814",
   "metadata": {},
   "source": []
  }
 ],
 "metadata": {
  "kernelspec": {
   "display_name": "Julia 1.9.3",
   "language": "julia",
   "name": "julia-1.9"
  },
  "language_info": {
   "file_extension": ".jl",
   "mimetype": "application/julia",
   "name": "julia",
   "version": "1.9.3"
  }
 },
 "nbformat": 4,
 "nbformat_minor": 5
}
